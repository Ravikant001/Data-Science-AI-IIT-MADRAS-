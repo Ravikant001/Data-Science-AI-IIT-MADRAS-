{
 "cells": [
  {
   "cell_type": "markdown",
   "id": "f880104f",
   "metadata": {},
   "source": [
    "# Module 2: Function and Class Assignment"
   ]
  },
  {
   "cell_type": "markdown",
   "id": "a8de9646",
   "metadata": {},
   "source": [
    "1. Create a function named 'factor' that can only accepts 1 argument. The function should return the factorial of that number.\n",
    "\n",
    "2. Create a function named 'check_string', the function should accept a string data from the user and the function should check if the user input contains the letter 's' in it. If it contains the letter 's' then print- 'The string is containing the letter 's\", if not then print-The string doesn't contain the letter 's\".\n",
    "\n",
    "3. Create a class named 'student' and inside the class, create a function named 'fun1'- this method should accepts the user defined input and return that value.\n",
    "\n",
    "a. Create another method named- message() and that method should print the user defined input that we have defined in 'fun1'.\n",
    "\n",
    "4. Create a lambda function that should double or multiply the number (that we will be passing in the lambda function) by 2. Store the lambda function in a variable named 'double_num'.\n",
    "\n",
    "5. Take user input string and check whether that string is palindrome or not."
   ]
  },
  {
   "cell_type": "markdown",
   "id": "ecc7dfaa",
   "metadata": {},
   "source": [
    "1. Create a function named 'factor' that can only accepts 1 argument. The function should return the factorial of that number."
   ]
  },
  {
   "cell_type": "code",
   "execution_count": 1,
   "id": "61dd7ef0",
   "metadata": {},
   "outputs": [
    {
     "name": "stdout",
     "output_type": "stream",
     "text": [
      "Input a number to compute the factiorial : 8\n",
      "40320\n"
     ]
    }
   ],
   "source": [
    "def factor(n):\n",
    "    res = 1\n",
    "    for i in range(2, n+1):\n",
    "        res = res *i\n",
    "    return res\n",
    "    \n",
    "n=int(input(\"Input a number to compute the factiorial : \"))\n",
    "print(factor(n))"
   ]
  },
  {
   "cell_type": "markdown",
   "id": "8db16cdd",
   "metadata": {},
   "source": [
    "2.Create a function named 'check_string', the function should accept a string data from the user and the function should check if the user input contains the letter 's' in it. If it contains the letter 's' then print- 'The string is containing the letter 's\", if not then print-The string doesn't contain the letter 's\"."
   ]
  },
  {
   "cell_type": "code",
   "execution_count": 2,
   "id": "dead63ae",
   "metadata": {},
   "outputs": [
    {
     "name": "stdout",
     "output_type": "stream",
     "text": [
      "Enter your string :-> hellos\n",
      "The string is containing the letter s\n"
     ]
    }
   ],
   "source": [
    "def check_string(s):\n",
    "    n1 = \"The string is containing the letter s\"\n",
    "    n2 = \"The string doesn't contain the letter s\"\n",
    "    if \"s\" in s:\n",
    "        return n1\n",
    "    else:\n",
    "        return n2\n",
    "\n",
    "s = str(input(\"Enter your string :-> \"))\n",
    "print(check_string(s))\n"
   ]
  },
  {
   "cell_type": "markdown",
   "id": "ff83a766",
   "metadata": {},
   "source": [
    "3. Create a class named 'student' and inside the class, create a function named 'fun1'- this method should accepts the user defined input and return that value.\n",
    "\n",
    "a. Create another method named- message() and that method should print the user defined input that we have defined in 'fun1'."
   ]
  },
  {
   "cell_type": "code",
   "execution_count": 4,
   "id": "6487c1ba",
   "metadata": {},
   "outputs": [
    {
     "name": "stdout",
     "output_type": "stream",
     "text": [
      "Enter an input:-> 1234\n",
      "value provided in fun1 : 1234\n"
     ]
    }
   ],
   "source": [
    "class student:\n",
    "    def fun1(self,value):\n",
    "        self.value = value\n",
    "        return self.value\n",
    "    def message(self):\n",
    "        print('value provided in fun1 :',self.value)\n",
    "\n",
    "std = student()\n",
    "std.fun1(int(input(\"Enter an input:-> \")))\n",
    "std.message()"
   ]
  },
  {
   "cell_type": "markdown",
   "id": "90b35fc2",
   "metadata": {},
   "source": [
    "4. Create a lambda function that should double or multiply the number (that we will be passing in the lambda function) by 2. Store the lambda function in a variable named 'double_num'."
   ]
  },
  {
   "cell_type": "code",
   "execution_count": null,
   "id": "4407f653",
   "metadata": {},
   "outputs": [],
   "source": [
    "double_num = lambda x : x*2\n",
    "double_num(3)"
   ]
  },
  {
   "cell_type": "markdown",
   "id": "918d71b6",
   "metadata": {},
   "source": [
    "5. Take user input string and check whether that string is palindrome or not."
   ]
  },
  {
   "cell_type": "code",
   "execution_count": 2,
   "id": "621c09ee",
   "metadata": {},
   "outputs": [
    {
     "name": "stdout",
     "output_type": "stream",
     "text": [
      "Enter a string:-> ici\n",
      "ici ici\n",
      "palindrome\n"
     ]
    }
   ],
   "source": [
    "s = input(\"Enter a string:-> \")\n",
    "n = s[::-1]\n",
    "print(n,s)\n",
    "if(n==s):\n",
    "    print('palindrome')\n",
    "else:print('not palindrome')"
   ]
  },
  {
   "cell_type": "code",
   "execution_count": null,
   "id": "5696b4b6",
   "metadata": {},
   "outputs": [],
   "source": []
  }
 ],
 "metadata": {
  "kernelspec": {
   "display_name": "Python 3 (ipykernel)",
   "language": "python",
   "name": "python3"
  },
  "language_info": {
   "codemirror_mode": {
    "name": "ipython",
    "version": 3
   },
   "file_extension": ".py",
   "mimetype": "text/x-python",
   "name": "python",
   "nbconvert_exporter": "python",
   "pygments_lexer": "ipython3",
   "version": "3.9.7"
  }
 },
 "nbformat": 4,
 "nbformat_minor": 5
}
