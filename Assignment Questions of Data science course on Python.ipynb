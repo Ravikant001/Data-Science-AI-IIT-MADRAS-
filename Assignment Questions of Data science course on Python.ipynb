{
 "cells": [
  {
   "cell_type": "markdown",
   "id": "797cb3cb",
   "metadata": {},
   "source": [
    "Python basics Assignment"
   ]
  },
  {
   "cell_type": "markdown",
   "id": "cc0331ae",
   "metadata": {},
   "source": [
    " \n",
    "Tasks to be performed:\n",
    "\n",
    "1.\tCreate a program to display the output using looping statement in the following manner:\n",
    "\n",
    "Breakfast\n",
    "\n",
    "*Pancakes           \n",
    "*Omelet\n",
    "*Muffins\n",
    "*Sandwich\n",
    "*Croissant\n",
    "\n",
    "Lunch\n",
    "\n",
    "*Chicken Salad\n",
    "*Cheeseburger\n",
    "*Reuben sandwich. \n",
    "*Barbecue chicken wings.\n",
    "*The BLT. \n",
    "\n",
    "\n",
    "2.\tCreate a program to find prime numbers from the below set using only while loop:\n",
    "{34,56,21,0,59,80,89,47,109,150}\n",
    "\n",
    "\n",
    "\n",
    "3.\tCreate a list containing the following 3 elements:\n",
    "\n",
    "●\tyour favorite animal\n",
    "●\tthe percentage you scored in your high school\n",
    "●\ta boolean value describing whether you have previous programming experience\n",
    "\n",
    "\n",
    "\n",
    "4.\tA fruit vendor has harvested apples from his field. Harvesting the whole field costs 4000 dollars. So far, 30 customers have purchased 6 apples each for themselves. If the vendor charges 200 dollars per customer, what is the profit made by the fruit vendor?\n",
    "\n",
    "\n",
    "\n",
    "5.\tCreate a function halfEvens, which takes a list l of integers and returns a list that is identical to l except that all odd integers have been removed and all even integers have been halved. For example, halfEvens([10,21,32,42,55]) returns [5, 16, 21].\n",
    "\n",
    "\n",
    "6.\tCreate a function split_like_that() that takes a list l1 and returns a list of two lists that together contain the elements of the original list in an \"every other\" fashion. For example, split_like_that([1, 4, 23, 3, 8]) returns [[1, 23, 8], [4, 3]]. \n",
    "Note: You are not allowed to use slicing.\n"
   ]
  },
  {
   "cell_type": "code",
   "execution_count": 2,
   "id": "b9d0e26a",
   "metadata": {},
   "outputs": [
    {
     "name": "stdout",
     "output_type": "stream",
     "text": [
      "\n",
      "  Breakfast \n",
      "\n",
      "* Pancakes\n",
      "* Omlet\n",
      "* Muffins\n",
      "* Sandwich\n",
      "* Croissant\n",
      "\n",
      "  Lunch \n",
      "\n",
      "* Chicken salad\n",
      "* Cheesburger\n",
      "* Reuben Sandwich\n",
      "* Barbecue Chicken wings\n",
      "* The BLT.\n"
     ]
    }
   ],
   "source": [
    "# Question 1)\n",
    "\n",
    "list1 = ['Breakfast', 'Lunch']\n",
    "list2 = ['Pancakes', 'Omlet', 'Muffins', 'Sandwich', 'Croissant']\n",
    "list3 = ['Chicken salad', 'Cheesburger', 'Reuben Sandwich', 'Barbecue Chicken wings', 'The BLT.']\n",
    "for i in list1:\n",
    "    print(\"\\n \", i, \"\\n\")\n",
    "    if (i == 'Breakfast'):\n",
    "        for a in list2:\n",
    "            print('*', a)\n",
    "            \n",
    "    else:\n",
    "        for b in list3:\n",
    "            print('*', b)\n",
    "            "
   ]
  },
  {
   "cell_type": "code",
   "execution_count": 41,
   "id": "73966037",
   "metadata": {},
   "outputs": [
    {
     "name": "stdout",
     "output_type": "stream",
     "text": [
      "{0, 34, 109, 47, 80, 21, 150, 56, 89, 59}\n",
      "not prime\n",
      "34 not prime\n",
      "109 yes, prime\n",
      "47 yes, prime\n",
      "80 not prime\n",
      "21 not prime\n",
      "150 not prime\n",
      "56 not prime\n",
      "89 yes, prime\n",
      "59 yes, prime\n"
     ]
    }
   ],
   "source": [
    "# Question = 2 by SIR\n",
    "\n",
    "set1 = {34,56,21,0,59,80,89,47,109,150}\n",
    "print(set1)\n",
    "new_list = list(set1)\n",
    "x = -1\n",
    "while x < len(new_list) -1 :\n",
    "    x = x + 1\n",
    "    if new_list[x] <= 2:\n",
    "        print(\"not prime\")\n",
    "    else:\n",
    "        i = 2\n",
    "        while i < new_list[x]:\n",
    "            if new_list[x] % i == 0:\n",
    "                print(new_list[x], \"not prime\")\n",
    "                break\n",
    "            i = i + 1\n",
    "        else:\n",
    "                print(new_list[x], \"yes, prime\")\n",
    "                "
   ]
  },
  {
   "cell_type": "code",
   "execution_count": 38,
   "id": "1643bcae",
   "metadata": {},
   "outputs": [
    {
     "name": "stdout",
     "output_type": "stream",
     "text": [
      "Your set {0, 34, 109, 47, 80, 21, 150, 56, 89, 59}\n",
      "Coverted from set to list [0, 34, 109, 47, 80, 21, 150, 56, 89, 59]\n"
     ]
    }
   ],
   "source": [
    "#Question = 2 Tried by me\n",
    "\n",
    "s = {34,56,21,0,59,80,89,47,109,150}\n",
    "print(\"Your set\", s)\n",
    "l = list(s)\n",
    "print(\"Coverted from set to list\", l)\n",
    "\n",
    "while i==l:\n",
    "    if (i%2 == 0):\n",
    "        print(\"Not prime\")\n",
    "    else:\n",
    "        print(\"Yes, Prime number\")\n"
   ]
  },
  {
   "cell_type": "code",
   "execution_count": 44,
   "id": "a4d698ef",
   "metadata": {},
   "outputs": [],
   "source": [
    "# Question = 3)\n",
    "\n",
    "My_list = ['Tiger', 89.2, True]"
   ]
  },
  {
   "cell_type": "code",
   "execution_count": 7,
   "id": "1a144e84",
   "metadata": {},
   "outputs": [],
   "source": [
    "# Question 5)\n",
    "\n",
    "def halveEvens(l):\n",
    "    n = []\n",
    "    for i in l:\n",
    "        if (i % 2 == 0):\n",
    "            s = i // 2\n",
    "            n.append(s)\n",
    "    return n"
   ]
  },
  {
   "cell_type": "code",
   "execution_count": 8,
   "id": "75376c98",
   "metadata": {},
   "outputs": [
    {
     "data": {
      "text/plain": [
       "[10, 30]"
      ]
     },
     "execution_count": 8,
     "metadata": {},
     "output_type": "execute_result"
    }
   ],
   "source": [
    "halveEvens([20, 31, 25, 60])"
   ]
  },
  {
   "cell_type": "code",
   "execution_count": 14,
   "id": "00457a5d",
   "metadata": {},
   "outputs": [],
   "source": [
    "#Question 6)\n",
    "\n",
    "def split_like_that(test_list):\n",
    "    new = []\n",
    "    data1 = [test_list[i] for i in range(len(test_list)) if i%2 == 0]\n",
    "    data2 = [test_list[i] for i in range(len(test_list)) if i%2 != 0]    \n",
    "    new.append(data1)\n",
    "    new.append(data2)\n",
    "    return new\n"
   ]
  },
  {
   "cell_type": "code",
   "execution_count": 15,
   "id": "d93dab5e",
   "metadata": {},
   "outputs": [
    {
     "data": {
      "text/plain": [
       "[[1, 33, 6], [4, 3]]"
      ]
     },
     "execution_count": 15,
     "metadata": {},
     "output_type": "execute_result"
    }
   ],
   "source": [
    "split_like_that([1, 4, 33, 3, 6])"
   ]
  },
  {
   "cell_type": "markdown",
   "id": "83c89f28",
   "metadata": {},
   "source": [
    "# 2ND ASSIGNMENT \n",
    "\n",
    "QUESTION 1)\n",
    "\n",
    "1.\tConsider yourself as a Python programmer whose task is to work on ATM code. Write a program to create the ATM operation which will perform the following tasks using the Oops concept:\n",
    "\n",
    "1. Check Account Details\n",
    "2. Check Balance\n",
    "3. Deposit Amount\n",
    "4. Withdraw Amount\n",
    "5. Exit with a transaction receipt\n"
   ]
  },
  {
   "cell_type": "code",
   "execution_count": 45,
   "id": "8142fbc3",
   "metadata": {},
   "outputs": [],
   "source": [
    "# Solution\n",
    "class bank_account:\n",
    "    def __init__(self, name, acc):\n",
    "        self.bal = 0\n",
    "        self.name = name\n",
    "        self.acc_no = acc\n",
    "    def details(self):\n",
    "        print(\"The account holder name is: \", self.name)\n",
    "        print(\"The account number name is: \", self.acc_no)\n",
    "    def check(self):\n",
    "        print(\"The current balance is: \", self.bal)\n",
    "    def deposit(self, amt):\n",
    "        self.bal = self.bal + amt\n",
    "        print(\"The account is deposited: \")\n",
    "    def withdraw(self, wamt):\n",
    "        if self.bal>=wamt:\n",
    "            print(\"Here is your withdrawl amount: \", end = \" \")\n",
    "            self.bal = self.bal - wamt\n",
    "            print(wamt)\n",
    "        \n",
    "        \n",
    "        "
   ]
  },
  {
   "cell_type": "code",
   "execution_count": 43,
   "id": "9144dc2e",
   "metadata": {},
   "outputs": [],
   "source": [
    "a = bank_account(\"Ravikant\", 79310101014526)"
   ]
  },
  {
   "cell_type": "code",
   "execution_count": 10,
   "id": "52dc3f05",
   "metadata": {},
   "outputs": [
    {
     "name": "stdout",
     "output_type": "stream",
     "text": [
      "The account holder name is:  Ravikant\n",
      "The account number name is:  79310101014526\n"
     ]
    }
   ],
   "source": [
    "a.details()"
   ]
  },
  {
   "cell_type": "code",
   "execution_count": 16,
   "id": "02bd8c35",
   "metadata": {},
   "outputs": [
    {
     "name": "stdout",
     "output_type": "stream",
     "text": [
      "3\n"
     ]
    }
   ],
   "source": [
    "x = 10 # It is identifier now not variable\n",
    "def func1(x):\n",
    "    print(x)\n",
    "func1(3)\n",
    "# Here func1 is also a constructor"
   ]
  },
  {
   "cell_type": "code",
   "execution_count": 17,
   "id": "4c175e54",
   "metadata": {},
   "outputs": [
    {
     "name": "stdout",
     "output_type": "stream",
     "text": [
      "The account is deposited: \n"
     ]
    }
   ],
   "source": [
    "a.deposit(500)"
   ]
  },
  {
   "cell_type": "code",
   "execution_count": 18,
   "id": "69408b9e",
   "metadata": {},
   "outputs": [
    {
     "name": "stdout",
     "output_type": "stream",
     "text": [
      "The current balance is:  500\n"
     ]
    }
   ],
   "source": [
    "a.check()"
   ]
  },
  {
   "cell_type": "code",
   "execution_count": 19,
   "id": "8529fd87",
   "metadata": {},
   "outputs": [
    {
     "name": "stdout",
     "output_type": "stream",
     "text": [
      "The account is deposited: \n"
     ]
    }
   ],
   "source": [
    "a.deposit(2000)"
   ]
  },
  {
   "cell_type": "code",
   "execution_count": 20,
   "id": "75f46b99",
   "metadata": {},
   "outputs": [
    {
     "name": "stdout",
     "output_type": "stream",
     "text": [
      "The current balance is:  2500\n"
     ]
    }
   ],
   "source": [
    "a.check()"
   ]
  },
  {
   "cell_type": "markdown",
   "id": "5bd0d211",
   "metadata": {},
   "source": [
    "#Question = 2)\n",
    "\n",
    "Using inheritance property create a code in such a way that if the user wants to withdraw the \n",
    "money from ATM, ATM should ask the user in which denomination(100,200 or 500) the user wants to withdraw. \n",
    "At last, your program should print if the user selected any particular domination note, then how many \n",
    "notes will the user gets after withdrawing. \n"
   ]
  },
  {
   "cell_type": "code",
   "execution_count": 29,
   "id": "e6e07988",
   "metadata": {},
   "outputs": [],
   "source": [
    "# Solution\n",
    "\n",
    "class num_of_notes(bank_account):\n",
    "    def __init__(self, name, acc):\n",
    "        super().__init__(name, acc)\n",
    "    def withdraawl_notes(self, wmt):\n",
    "        print(\"Below are the denominations from which you can choose: \")\n",
    "        print(\"1 Rs 100\")\n",
    "        print(\"2 Rs 200\")\n",
    "        print(\"3 Rs 500\")\n",
    "        note = int(input(\"Enter your denomination now:\"))\n",
    "        if note == 100:\n",
    "            if self.bal >= wamt:\n",
    "                print(\"You will get\", wamt//note, \"number of 100Rs note\")\n",
    "            else:\n",
    "                print(\"Insufficient balance\")\n",
    "        elif note == 200:\n",
    "            if self.bal>=wamt:\n",
    "                print(\"You will get\", wamt//note, \"number of 200Rs note\")\n",
    "            else:\n",
    "                print(\"Insufficient balance\")\n",
    "        elif note == 500:\n",
    "            if self.bal>=wamt:\n",
    "                print(\"You will get\", wamt//note, \"number of 500Rs note\")\n",
    "            else:\n",
    "                print(\"Insufficient balance\")\n",
    "        super().withdraw(wamt)"
   ]
  },
  {
   "cell_type": "code",
   "execution_count": 30,
   "id": "48576079",
   "metadata": {},
   "outputs": [],
   "source": [
    "# For understanding the super function\n",
    "class A:\n",
    "    def funct1(self):\n",
    "        print(\"Class A\")\n",
    "        \n",
    "class B(A):\n",
    "    def funct1(self):\n",
    "        print(\"Class B\")\n",
    "        super().funct1()\n",
    "        # Using super function it again iterates the funct1 function \n",
    "        "
   ]
  },
  {
   "cell_type": "code",
   "execution_count": 22,
   "id": "2b698725",
   "metadata": {},
   "outputs": [],
   "source": [
    "a = B()"
   ]
  },
  {
   "cell_type": "code",
   "execution_count": 23,
   "id": "beaf4482",
   "metadata": {},
   "outputs": [
    {
     "name": "stdout",
     "output_type": "stream",
     "text": [
      "Class B\n"
     ]
    }
   ],
   "source": [
    "a.funct1()"
   ]
  },
  {
   "cell_type": "code",
   "execution_count": 36,
   "id": "4e8a9a1c",
   "metadata": {},
   "outputs": [],
   "source": [
    "a = num_of_notes(\"Ravikant\", 500)"
   ]
  },
  {
   "cell_type": "code",
   "execution_count": 33,
   "id": "d4b4b9b9",
   "metadata": {},
   "outputs": [
    {
     "name": "stdout",
     "output_type": "stream",
     "text": [
      "The current balance is:  0\n"
     ]
    }
   ],
   "source": [
    "a.check()"
   ]
  },
  {
   "cell_type": "code",
   "execution_count": 34,
   "id": "e7edd6e2",
   "metadata": {},
   "outputs": [
    {
     "name": "stdout",
     "output_type": "stream",
     "text": [
      "The account is deposited: \n"
     ]
    }
   ],
   "source": [
    "a.deposit(1000)"
   ]
  },
  {
   "cell_type": "code",
   "execution_count": 37,
   "id": "b5565cd0",
   "metadata": {},
   "outputs": [],
   "source": [
    "a.withdraw(1000)"
   ]
  },
  {
   "cell_type": "code",
   "execution_count": 38,
   "id": "91a5e7f3",
   "metadata": {},
   "outputs": [
    {
     "name": "stdout",
     "output_type": "stream",
     "text": [
      "The account is deposited: \n"
     ]
    }
   ],
   "source": [
    "a.deposit(100)"
   ]
  },
  {
   "cell_type": "code",
   "execution_count": 2,
   "id": "101f4133",
   "metadata": {},
   "outputs": [],
   "source": [
    "# a.withdraw(100)"
   ]
  },
  {
   "cell_type": "code",
   "execution_count": 1,
   "id": "e3fc0747",
   "metadata": {},
   "outputs": [],
   "source": [
    "# a.withdraawl_notes(1000)"
   ]
  },
  {
   "cell_type": "code",
   "execution_count": null,
   "id": "f96d3cbe",
   "metadata": {},
   "outputs": [],
   "source": []
  }
 ],
 "metadata": {
  "kernelspec": {
   "display_name": "Python 3 (ipykernel)",
   "language": "python",
   "name": "python3"
  },
  "language_info": {
   "codemirror_mode": {
    "name": "ipython",
    "version": 3
   },
   "file_extension": ".py",
   "mimetype": "text/x-python",
   "name": "python",
   "nbconvert_exporter": "python",
   "pygments_lexer": "ipython3",
   "version": "3.9.7"
  }
 },
 "nbformat": 4,
 "nbformat_minor": 5
}
