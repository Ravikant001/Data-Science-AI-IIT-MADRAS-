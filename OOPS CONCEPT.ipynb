{
 "cells": [
  {
   "cell_type": "code",
   "execution_count": 9,
   "id": "c6474ee1",
   "metadata": {},
   "outputs": [],
   "source": [
    "# syntax\n",
    "def __init__(self):\n",
    "    # Body of constructor\n",
    "    #wheels\n",
    "    #engine = hyper\n",
    "    #gear = advanced[1, 2,3 ,4 5]\n",
    "    #doors = automatic"
   ]
  },
  {
   "cell_type": "code",
   "execution_count": 10,
   "id": "d0fef9a4",
   "metadata": {},
   "outputs": [],
   "source": [
    "# Types of Constructor"
   ]
  },
  {
   "cell_type": "code",
   "execution_count": null,
   "id": "65ad5a1f",
   "metadata": {},
   "outputs": [],
   "source": [
    "# parametrised constructors --> accept formal paranthesis and assign accordingly"
   ]
  },
  {
   "cell_type": "code",
   "execution_count": null,
   "id": "fe9ea834",
   "metadata": {},
   "outputs": [],
   "source": [
    "# non-parameterised constructor --> do not accept parameters only self "
   ]
  },
  {
   "cell_type": "code",
   "execution_count": null,
   "id": "35846c7f",
   "metadata": {},
   "outputs": [],
   "source": []
  },
  {
   "cell_type": "code",
   "execution_count": null,
   "id": "16a15ca7",
   "metadata": {},
   "outputs": [],
   "source": []
  },
  {
   "cell_type": "code",
   "execution_count": null,
   "id": "e1719064",
   "metadata": {},
   "outputs": [],
   "source": []
  },
  {
   "cell_type": "code",
   "execution_count": null,
   "id": "dfebfe52",
   "metadata": {},
   "outputs": [],
   "source": []
  },
  {
   "cell_type": "code",
   "execution_count": 1,
   "id": "8a717791",
   "metadata": {},
   "outputs": [],
   "source": [
    "class demo:\n",
    "    def __init__(self):\n",
    "        print('Object is created , so constructor is called')\n",
    "    def m1(self, a):\n",
    "        return a + a"
   ]
  },
  {
   "cell_type": "code",
   "execution_count": 2,
   "id": "919ebb25",
   "metadata": {},
   "outputs": [
    {
     "name": "stdout",
     "output_type": "stream",
     "text": [
      "Object is created , so constructor is called\n"
     ]
    }
   ],
   "source": [
    "obj = demo()"
   ]
  },
  {
   "cell_type": "code",
   "execution_count": 3,
   "id": "4c46f7e6",
   "metadata": {},
   "outputs": [
    {
     "data": {
      "text/plain": [
       "6"
      ]
     },
     "execution_count": 3,
     "metadata": {},
     "output_type": "execute_result"
    }
   ],
   "source": [
    "obj.m1(3)"
   ]
  },
  {
   "cell_type": "code",
   "execution_count": 7,
   "id": "ea40c3bc",
   "metadata": {},
   "outputs": [
    {
     "data": {
      "text/plain": [
       "8"
      ]
     },
     "execution_count": 7,
     "metadata": {},
     "output_type": "execute_result"
    }
   ],
   "source": [
    "obj.m1(4) # adding a and a "
   ]
  },
  {
   "cell_type": "code",
   "execution_count": 20,
   "id": "3adb5628",
   "metadata": {},
   "outputs": [],
   "source": [
    "# parametrised contructor\n",
    "class car:\n",
    "    def __init__(self, wheels, gear, engine, doors):\n",
    "        self.wheels = wheels\n",
    "        self.gear = gear\n",
    "        self.engine = engine\n",
    "        self.doors = doors\n",
    "        print('car values assigned')\n",
    "    def run(self):\n",
    "        print('This car has a engine :', self.engine)\n",
    "        print('This car has gear :', self.gear)\n",
    "        "
   ]
  },
  {
   "cell_type": "code",
   "execution_count": 21,
   "id": "560118cf",
   "metadata": {},
   "outputs": [
    {
     "name": "stdout",
     "output_type": "stream",
     "text": [
      "car values assigned\n"
     ]
    }
   ],
   "source": [
    "audi = car(4, 'advanced', 'hyper', 'automatic')\n"
   ]
  },
  {
   "cell_type": "code",
   "execution_count": 23,
   "id": "ef237333",
   "metadata": {},
   "outputs": [
    {
     "name": "stdout",
     "output_type": "stream",
     "text": [
      "This car has a engine : hyper\n",
      "This car has gear : advanced\n"
     ]
    }
   ],
   "source": [
    "audi.run()"
   ]
  },
  {
   "cell_type": "code",
   "execution_count": 1,
   "id": "f64c60fc",
   "metadata": {
    "scrolled": true
   },
   "outputs": [],
   "source": [
    "# class People:\n",
    "#     def __init__(self, name, age):\n",
    "#         self.name = name\n",
    "#         self.age = age\n",
    "        \n",
    "#     def greet(self):\n",
    "#         print('Greetings' + self.name)\n",
    "        \n",
    "# person1 = People('Iron man', 35)\n",
    "# person2.greet()\n",
    "# print(person1.name)\n",
    "# print(person2.age)\n",
    "        "
   ]
  },
  {
   "cell_type": "code",
   "execution_count": 1,
   "id": "63cb43ac",
   "metadata": {},
   "outputs": [],
   "source": [
    "# INHERITANCE\n",
    "\n",
    "# CAPABILITY OF A CLASS TO INHERIT THE PROPERTIES FROM ANOTHER CLASS\n",
    "# THE CLASS WHICH DERIVES THE PROPERTIES IS KNOWN AS CHILD CLASS\n",
    "# THE CLASS FROM WHICH PROPERTIES ARE DERIVED IS KNOWN AS PARENT CLASS.\n",
    "\n",
    "#BENIFITS OF INHERITANCE\n",
    "# PROVIDES REUSABILITY OF CODES \n",
    "# REPRESENTS RELATIONHIP OF REAL WORLD ENTITIES.\n",
    "# ADD NEW FEATURES TO THE CLASS\n"
   ]
  },
  {
   "cell_type": "code",
   "execution_count": 10,
   "id": "f4c199e3",
   "metadata": {},
   "outputs": [],
   "source": [
    "# SINGLE INHERITANCE\n",
    "    # ONE PARENT CLASS --> ONE CHILD CLASS\n",
    "    \n",
    "# PARENT CLASS\n",
    "class person():\n",
    "    #constructor\n",
    "    def __init__(self, name, id):\n",
    "        self.name = name\n",
    "        self.id = id\n",
    "        \n",
    "    def display(self):\n",
    "        print(self.name, self.id)\n",
    "        \n",
    "# CHILD CLASS\n",
    "class employee(person):\n",
    "    def __init__(self, salary, post, id, name):\n",
    "        self.salary = salary\n",
    "        self.post = post\n",
    "        person.__init__(self, name, id) # Calling the contructor of parent class\n",
    "        \n",
    "    def details(self):\n",
    "        print('person name', self.name)\n",
    "        print('person salary', self.salary)\n",
    "        print('person id', self.id)\n",
    "        print('person post', self.post)        \n",
    "        "
   ]
  },
  {
   "cell_type": "code",
   "execution_count": 11,
   "id": "a3502b3d",
   "metadata": {},
   "outputs": [],
   "source": [
    "e1 = employee('abc', 213, 20000, 'TA')"
   ]
  },
  {
   "cell_type": "code",
   "execution_count": 17,
   "id": "a6874e6a",
   "metadata": {},
   "outputs": [
    {
     "name": "stdout",
     "output_type": "stream",
     "text": [
      "person name TA\n",
      "person salary abc\n",
      "person id 20000\n",
      "person post 213\n"
     ]
    }
   ],
   "source": [
    "e1.details()"
   ]
  },
  {
   "cell_type": "code",
   "execution_count": 16,
   "id": "fd2062de",
   "metadata": {},
   "outputs": [
    {
     "name": "stdout",
     "output_type": "stream",
     "text": [
      "TA 20000\n"
     ]
    }
   ],
   "source": [
    "e1.display()"
   ]
  },
  {
   "cell_type": "code",
   "execution_count": 18,
   "id": "13da9b2f",
   "metadata": {},
   "outputs": [],
   "source": [
    "#MULTIPLE INHERITANCE\n",
    "\n",
    "# multiple parents, single child\n",
    "# A --> parent\n",
    "# B --> parent\n",
    "# C --> child\n"
   ]
  },
  {
   "cell_type": "code",
   "execution_count": 19,
   "id": "b4cd3520",
   "metadata": {},
   "outputs": [],
   "source": [
    "class A:\n",
    "    def __init__(self):\n",
    "        print('A class Constructor')\n",
    "    def m1(self):\n",
    "        print('A class method')\n",
    "        "
   ]
  },
  {
   "cell_type": "code",
   "execution_count": 20,
   "id": "c8ed0a19",
   "metadata": {},
   "outputs": [],
   "source": [
    "class B:\n",
    "    def __init__(self):\n",
    "        print('B class Constructor')\n",
    "    def m2(self):\n",
    "        print('B class method')\n",
    "        "
   ]
  },
  {
   "cell_type": "code",
   "execution_count": 22,
   "id": "0751e0d1",
   "metadata": {},
   "outputs": [],
   "source": [
    "# child class\n",
    "class C(A, B):\n",
    "    def __init__(self):\n",
    "        A.__init__(self) # calling A Class\n",
    "        B.__init__(self) # calling B class\n",
    "        print('C class constructor')\n",
    "        \n",
    "    def m3(self):\n",
    "        A.m1(self)\n",
    "        B.m2(self)\n",
    "        print('C class method')\n",
    "        "
   ]
  },
  {
   "cell_type": "code",
   "execution_count": 23,
   "id": "ada69288",
   "metadata": {},
   "outputs": [
    {
     "name": "stdout",
     "output_type": "stream",
     "text": [
      "A class Constructor\n",
      "B class Constructor\n",
      "C class constructor\n"
     ]
    }
   ],
   "source": [
    "c = C()"
   ]
  },
  {
   "cell_type": "code",
   "execution_count": 26,
   "id": "90f9891f",
   "metadata": {},
   "outputs": [
    {
     "name": "stdout",
     "output_type": "stream",
     "text": [
      "A class method\n",
      "B class method\n",
      "C class method\n"
     ]
    }
   ],
   "source": [
    "c.m3()"
   ]
  },
  {
   "cell_type": "code",
   "execution_count": null,
   "id": "6e62e087",
   "metadata": {},
   "outputs": [],
   "source": [
    "# IMPLEMENTATION OF ENCAPSULATION\n",
    "# ACCESS MODIFIERS --> PUBLIC , PRIVATE , PROTECTED\n"
   ]
  }
 ],
 "metadata": {
  "kernelspec": {
   "display_name": "Python 3 (ipykernel)",
   "language": "python",
   "name": "python3"
  },
  "language_info": {
   "codemirror_mode": {
    "name": "ipython",
    "version": 3
   },
   "file_extension": ".py",
   "mimetype": "text/x-python",
   "name": "python",
   "nbconvert_exporter": "python",
   "pygments_lexer": "ipython3",
   "version": "3.9.7"
  }
 },
 "nbformat": 4,
 "nbformat_minor": 5
}
