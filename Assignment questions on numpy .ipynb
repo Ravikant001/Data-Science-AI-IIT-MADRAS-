{
 "cells": [
  {
   "cell_type": "markdown",
   "id": "99435a17",
   "metadata": {},
   "source": [
    "# Create numpy array"
   ]
  },
  {
   "cell_type": "code",
   "execution_count": 1,
   "id": "7cf3afe1",
   "metadata": {},
   "outputs": [],
   "source": [
    "import numpy as np\n",
    "import warnings\n",
    "warnings.filterwarnings('ignore')"
   ]
  },
  {
   "cell_type": "code",
   "execution_count": 2,
   "id": "9c87ba83",
   "metadata": {},
   "outputs": [
    {
     "data": {
      "text/plain": [
       "array([1, 2, 3])"
      ]
     },
     "execution_count": 2,
     "metadata": {},
     "output_type": "execute_result"
    }
   ],
   "source": [
    "array = np.array([1, 2, 3 ])\n",
    "array"
   ]
  },
  {
   "cell_type": "code",
   "execution_count": 3,
   "id": "df04488e",
   "metadata": {},
   "outputs": [
    {
     "data": {
      "text/plain": [
       "array([[1, 2, 3],\n",
       "       [4, 5, 6]])"
      ]
     },
     "execution_count": 3,
     "metadata": {},
     "output_type": "execute_result"
    }
   ],
   "source": [
    "array2 = np.array([[1, 2, 3], [4, 5, 6]])\n",
    "array2"
   ]
  },
  {
   "cell_type": "code",
   "execution_count": 4,
   "id": "b7a4f268",
   "metadata": {},
   "outputs": [
    {
     "data": {
      "text/plain": [
       "array([[[11, 12, 13],\n",
       "        [14, 15, 16],\n",
       "        [17, 18, 19]]])"
      ]
     },
     "execution_count": 4,
     "metadata": {},
     "output_type": "execute_result"
    }
   ],
   "source": [
    "array3 = np.array([[[11, 12, 13], [14, 15, 16], [17, 18, 19]]])\n",
    "array3"
   ]
  },
  {
   "cell_type": "markdown",
   "id": "137957d4",
   "metadata": {},
   "source": [
    "# Numpy Assignment 1"
   ]
  },
  {
   "cell_type": "markdown",
   "id": "211f51cc",
   "metadata": {},
   "source": [
    "Create a function that takes dimensions as tuples e.g.(3, 3) and a numeric value and returns a \n",
    "Numpy array of the given dimension filled with the given value e.g.: solve((3, 3), 5) will return \n",
    "[\n",
    " [5, 5, 5],\n",
    " [5, 5, 5],\n",
    " [5, 5, 5]\n",
    "]"
   ]
  },
  {
   "cell_type": "code",
   "execution_count": 5,
   "id": "e2a4df65",
   "metadata": {},
   "outputs": [
    {
     "data": {
      "text/plain": [
       "[array([[5, 5, 5],\n",
       "        [5, 5, 5],\n",
       "        [5, 5, 5]])]"
      ]
     },
     "execution_count": 5,
     "metadata": {},
     "output_type": "execute_result"
    }
   ],
   "source": [
    "from itertools import starmap\n",
    "import numpy as np\n",
    "\n",
    "func = lambda a, b: np.full(a, b)\n",
    "\n",
    "array5 = list(starmap(func, [((3, 3), 5)]))\n",
    "array5"
   ]
  },
  {
   "cell_type": "markdown",
   "id": "3f423b13",
   "metadata": {},
   "source": [
    "Create a method that takes n Numpy arrays of same dimensions sums them and return the \n",
    "answer."
   ]
  },
  {
   "cell_type": "code",
   "execution_count": 6,
   "id": "b67c4eca",
   "metadata": {},
   "outputs": [
    {
     "name": "stdout",
     "output_type": "stream",
     "text": [
      "Enter the dimension in 1d space: 3\n",
      "Enter the value you want to fill in array: 3\n",
      "[3 3 3]\n",
      "9\n"
     ]
    }
   ],
   "source": [
    "n = int(input(\"Enter the dimension in 1d space: \"))\n",
    "m = int(input(\"Enter the value you want to fill in array: \"))\n",
    "\n",
    "arraysum = np.full(\n",
    "  shape=n,\n",
    "  fill_value=m,\n",
    "  dtype=np.int\n",
    ")\n",
    "print(arraysum)\n",
    "print(np.sum(arraysum))"
   ]
  },
  {
   "cell_type": "code",
   "execution_count": 7,
   "id": "1863ad3e",
   "metadata": {},
   "outputs": [
    {
     "name": "stdout",
     "output_type": "stream",
     "text": [
      "[5 5 5 5 5 5 5 5 5 5]\n",
      "50\n"
     ]
    }
   ],
   "source": [
    "# 2nd method\n",
    "\n",
    "import numpy\n",
    "arrays = numpy.repeat(5, 10)\n",
    "print(arrays)\n",
    "print(numpy.sum(arrays))"
   ]
  },
  {
   "cell_type": "markdown",
   "id": "00739802",
   "metadata": {},
   "source": [
    "Given a 2 D Array of N X M Dimension, Write a function that accepts this array as well as two \n",
    "numbers N and M. The method should return the top-left N X M sub matrix e.g:\n",
    " [\n",
    " [1, 2, 3],\n",
    " [4, 5, 6],\n",
    " [7, 8, 9],\n",
    " ]\n",
    "top_left_sub_matrix (matrix, 2, 2) -> should return:\n",
    " [\n",
    " [1, 2]\n",
    " [4, 5]\n",
    " ]\n"
   ]
  },
  {
   "cell_type": "code",
   "execution_count": 66,
   "id": "18d686d8",
   "metadata": {},
   "outputs": [
    {
     "data": {
      "text/plain": [
       "array([[1, 2, 3],\n",
       "       [4, 5, 6]])"
      ]
     },
     "execution_count": 66,
     "metadata": {},
     "output_type": "execute_result"
    }
   ],
   "source": [
    "arr = np.array([[1, 2, 3], [4, 5, 6], [7, 8, 9]])\n",
    "def array(arr):\n",
    "    return arr[:2:]\n",
    "    \n",
    "array(arr)"
   ]
  },
  {
   "cell_type": "markdown",
   "id": "ed5292bf",
   "metadata": {},
   "source": [
    "Given a 2 D Array of N X M Dimension, Write a function that accepts this array as well as two \n",
    "numbers N and M The method should return the bottom-right N X M sub matrix e.g.:\n",
    " [\n",
    " [1, 2, 3],\n",
    " [4, 5, 6],\n",
    " [7, 8, 9],\n",
    " ]\n",
    "sub_matrix(matrix, 1, 1) -> should return : (Keep in mind these arrays are zero indexed)\n",
    " [\n",
    " [5, 6]\n",
    " [8, 9]\n",
    " ]"
   ]
  },
  {
   "cell_type": "code",
   "execution_count": 35,
   "id": "8207cf9e",
   "metadata": {},
   "outputs": [
    {
     "data": {
      "text/plain": [
       "array([[5, 6],\n",
       "       [8, 9]])"
      ]
     },
     "execution_count": 35,
     "metadata": {},
     "output_type": "execute_result"
    }
   ],
   "source": [
    "arr = np.array([[1, 2, 3], [4, 5, 6], [7, 8, 9]])\n",
    "def array(arr):\n",
    "    return arr[1:, 1:]\n",
    "    \n",
    "array(arr)"
   ]
  },
  {
   "cell_type": "markdown",
   "id": "dcd6b90d",
   "metadata": {},
   "source": [
    "Given a 1 D Numpy Array. Write a function that accepts this array as parameters. The method \n",
    "should return a dictionary with 'mean' and 'std_dev' as key and array's mean and array's \n",
    "standard deviation as values:\n",
    " [1, 1, 1]\n",
    "\n",
    "solution(arr) -> should return :\n",
    " {'mean': 1.0, 'std_dev': 0.0"
   ]
  },
  {
   "cell_type": "code",
   "execution_count": 32,
   "id": "0a9a91b8",
   "metadata": {},
   "outputs": [
    {
     "data": {
      "text/plain": [
       "{'mean': 1.0, 'std_dev': 0.0}"
      ]
     },
     "execution_count": 32,
     "metadata": {},
     "output_type": "execute_result"
    }
   ],
   "source": [
    "array = np.array([1, 1, 1])\n",
    "\n",
    "def arr(array):\n",
    "    mean = array.mean()\n",
    "    std = array.std()\n",
    "    Dict = {\"mean\": mean, \"std_dev\": std}\n",
    "    \n",
    "    return Dict\n",
    "\n",
    "arr(array)"
   ]
  },
  {
   "cell_type": "markdown",
   "id": "3faf5348",
   "metadata": {},
   "source": [
    "# Numpy Assignment 2"
   ]
  },
  {
   "cell_type": "markdown",
   "id": "6a8c42fc",
   "metadata": {},
   "source": [
    "Create a 3x3 matrix array with values ranging from 2 to 10"
   ]
  },
  {
   "cell_type": "code",
   "execution_count": 10,
   "id": "a512cc1e",
   "metadata": {},
   "outputs": [
    {
     "data": {
      "text/plain": [
       "array([[ 2,  3,  4],\n",
       "       [ 5,  6,  7],\n",
       "       [ 8,  9, 10]])"
      ]
     },
     "execution_count": 10,
     "metadata": {},
     "output_type": "execute_result"
    }
   ],
   "source": [
    "array3d = np.arange(2,11).reshape(3, 3)\n",
    "array3d"
   ]
  },
  {
   "cell_type": "markdown",
   "id": "a3243466",
   "metadata": {},
   "source": [
    "Create a numpy array having user input values and convert the integer type to the float type \n",
    "of the elements of the array. For instance:\n",
    "Original array\n",
    "[1, 2, 3, 4]\n",
    "Array converted to a float type:\n",
    "[ 1. 2. 3. 4."
   ]
  },
  {
   "cell_type": "code",
   "execution_count": 33,
   "id": "ddf05ec1",
   "metadata": {},
   "outputs": [
    {
     "name": "stdout",
     "output_type": "stream",
     "text": [
      "Size of array:3\n",
      "Element:1\n",
      "Element:2\n",
      "Element:3\n",
      "[1. 2. 3.]\n"
     ]
    }
   ],
   "source": [
    "my_array = []\n",
    "a=int(input(\"Size of array:\"))\n",
    "for i in range(a):\n",
    "    x=float(input(\"Element:\"))\n",
    "    my_array.append(x)\n",
    "\n",
    "my_array2 = np.array(my_array)\n",
    "print(my_array2)"
   ]
  },
  {
   "cell_type": "markdown",
   "id": "58a57ab0",
   "metadata": {},
   "source": [
    "Write a Numpy program to append values to the end of an array. For instance:\n",
    "Original array:\n",
    "[10, 20, 30]\n",
    "After append values to the end of the array:\n",
    "[10 20 30 40 50 60 70 80 90"
   ]
  },
  {
   "cell_type": "code",
   "execution_count": null,
   "id": "1029a60d",
   "metadata": {},
   "outputs": [],
   "source": [
    "x = [10, 20, 30]\n",
    "print(\"Original array:\")\n",
    "print(x)\n",
    "x = np.append(x, [[40, 50, 60], [70, 80, 90]])\n",
    "print(\"After append values to the end of the array:\")\n",
    "print(x)"
   ]
  },
  {
   "cell_type": "markdown",
   "id": "e2380ade",
   "metadata": {},
   "source": [
    "Create two numpy arrays and add the elements of both the arrays and store the result in \n",
    "sumArray."
   ]
  },
  {
   "cell_type": "code",
   "execution_count": null,
   "id": "bc922b74",
   "metadata": {},
   "outputs": [],
   "source": [
    "First_array = np.array([1, 2, 3])\n",
    "Second_array = np.array([4, 5, 6])\n",
    "sumArray = First_array + Second_array\n",
    "print(sumArray)"
   ]
  },
  {
   "cell_type": "markdown",
   "id": "86daab78",
   "metadata": {},
   "source": [
    "Create a 3*3 array having values from 10-90(interval of 10) and store that in array1. Perform \n",
    "the following tasks:\n",
    "a. Extract the 1st row from the array.\n",
    "b. Extract the last element from the array"
   ]
  },
  {
   "cell_type": "code",
   "execution_count": null,
   "id": "e30fe05e",
   "metadata": {},
   "outputs": [],
   "source": [
    "array1 = np.arange(10, 100, 10).reshape(3, 3)\n",
    "array1"
   ]
  },
  {
   "cell_type": "code",
   "execution_count": null,
   "id": "78946c1d",
   "metadata": {},
   "outputs": [],
   "source": [
    "# Task a\n",
    "\n",
    "array1[0]"
   ]
  },
  {
   "cell_type": "code",
   "execution_count": null,
   "id": "49e2a6b4",
   "metadata": {},
   "outputs": [],
   "source": [
    "# Task b\n",
    "\n",
    "array1[2][2]"
   ]
  },
  {
   "cell_type": "code",
   "execution_count": null,
   "id": "cebf3583",
   "metadata": {},
   "outputs": [],
   "source": []
  },
  {
   "cell_type": "markdown",
   "id": "0b6d9b1d",
   "metadata": {},
   "source": [
    "### "
   ]
  }
 ],
 "metadata": {
  "kernelspec": {
   "display_name": "Python 3 (ipykernel)",
   "language": "python",
   "name": "python3"
  },
  "language_info": {
   "codemirror_mode": {
    "name": "ipython",
    "version": 3
   },
   "file_extension": ".py",
   "mimetype": "text/x-python",
   "name": "python",
   "nbconvert_exporter": "python",
   "pygments_lexer": "ipython3",
   "version": "3.9.7"
  }
 },
 "nbformat": 4,
 "nbformat_minor": 5
}
